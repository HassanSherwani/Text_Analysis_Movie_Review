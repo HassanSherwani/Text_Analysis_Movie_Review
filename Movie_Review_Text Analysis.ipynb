{
 "cells": [
  {
   "cell_type": "code",
   "execution_count": 1,
   "metadata": {},
   "outputs": [
    {
     "name": "stdout",
     "output_type": "stream",
     "text": [
      "Populating the interactive namespace from numpy and matplotlib\n"
     ]
    }
   ],
   "source": [
    "import pandas as pd\n",
    "import numpy as np\n",
    "from IPython import get_ipython\n",
    "get_ipython().run_line_magic('matplotlib', 'inline')\n",
    "import matplotlib.pyplot as plt\n",
    "%matplotlib inline\n",
    "from nltk.corpus import stopwords\n",
    "from nltk.stem.porter import PorterStemmer\n",
    "import re\n",
    "%pylab inline\n",
    "\n",
    "from sklearn.feature_extraction.text import CountVectorizer\n",
    "from sklearn.model_selection import train_test_split\n",
    "from sklearn.linear_model import PassiveAggressiveClassifier, SGDClassifier\n",
    "from sklearn.svm import LinearSVC\n",
    "from sklearn.naive_bayes import MultinomialNB\n",
    "from sklearn import metrics\n",
    "import warnings\n",
    "warnings.filterwarnings('ignore')"
   ]
  },
  {
   "cell_type": "markdown",
   "metadata": {},
   "source": [
    "## Importing dataset"
   ]
  },
  {
   "cell_type": "code",
   "execution_count": 2,
   "metadata": {},
   "outputs": [
    {
     "data": {
      "text/html": [
       "<div>\n",
       "<style scoped>\n",
       "    .dataframe tbody tr th:only-of-type {\n",
       "        vertical-align: middle;\n",
       "    }\n",
       "\n",
       "    .dataframe tbody tr th {\n",
       "        vertical-align: top;\n",
       "    }\n",
       "\n",
       "    .dataframe thead th {\n",
       "        text-align: right;\n",
       "    }\n",
       "</style>\n",
       "<table border=\"1\" class=\"dataframe\">\n",
       "  <thead>\n",
       "    <tr style=\"text-align: right;\">\n",
       "      <th></th>\n",
       "      <th>0</th>\n",
       "      <th>1</th>\n",
       "    </tr>\n",
       "  </thead>\n",
       "  <tbody>\n",
       "    <tr>\n",
       "      <th>0</th>\n",
       "      <td>1</td>\n",
       "      <td>The Da Vinci Code book is just awesome.</td>\n",
       "    </tr>\n",
       "    <tr>\n",
       "      <th>1</th>\n",
       "      <td>1</td>\n",
       "      <td>this was the first clive cussler i've ever rea...</td>\n",
       "    </tr>\n",
       "    <tr>\n",
       "      <th>2</th>\n",
       "      <td>1</td>\n",
       "      <td>i liked the Da Vinci Code a lot.</td>\n",
       "    </tr>\n",
       "    <tr>\n",
       "      <th>3</th>\n",
       "      <td>1</td>\n",
       "      <td>i liked the Da Vinci Code a lot.</td>\n",
       "    </tr>\n",
       "    <tr>\n",
       "      <th>4</th>\n",
       "      <td>1</td>\n",
       "      <td>I liked the Da Vinci Code but it ultimatly did...</td>\n",
       "    </tr>\n",
       "  </tbody>\n",
       "</table>\n",
       "</div>"
      ],
      "text/plain": [
       "   0                                                  1\n",
       "0  1            The Da Vinci Code book is just awesome.\n",
       "1  1  this was the first clive cussler i've ever rea...\n",
       "2  1                   i liked the Da Vinci Code a lot.\n",
       "3  1                   i liked the Da Vinci Code a lot.\n",
       "4  1  I liked the Da Vinci Code but it ultimatly did..."
      ]
     },
     "execution_count": 2,
     "metadata": {},
     "output_type": "execute_result"
    }
   ],
   "source": [
    "df_review=pd.read_csv('UMICH_SI650_Sentiment_Classification.txt', header=None, delimiter=\"\\t\", quoting=3)\n",
    "df_review.head()"
   ]
  },
  {
   "cell_type": "markdown",
   "metadata": {},
   "source": [
    "# 1. Working with dataset"
   ]
  },
  {
   "cell_type": "code",
   "execution_count": 3,
   "metadata": {},
   "outputs": [],
   "source": [
    "df_review.columns=[\"Liked\", \"Text\"]"
   ]
  },
  {
   "cell_type": "code",
   "execution_count": 4,
   "metadata": {},
   "outputs": [
    {
     "data": {
      "text/html": [
       "<div>\n",
       "<style scoped>\n",
       "    .dataframe tbody tr th:only-of-type {\n",
       "        vertical-align: middle;\n",
       "    }\n",
       "\n",
       "    .dataframe tbody tr th {\n",
       "        vertical-align: top;\n",
       "    }\n",
       "\n",
       "    .dataframe thead th {\n",
       "        text-align: right;\n",
       "    }\n",
       "</style>\n",
       "<table border=\"1\" class=\"dataframe\">\n",
       "  <thead>\n",
       "    <tr style=\"text-align: right;\">\n",
       "      <th></th>\n",
       "      <th>Liked</th>\n",
       "      <th>Text</th>\n",
       "    </tr>\n",
       "  </thead>\n",
       "  <tbody>\n",
       "    <tr>\n",
       "      <th>0</th>\n",
       "      <td>1</td>\n",
       "      <td>The Da Vinci Code book is just awesome.</td>\n",
       "    </tr>\n",
       "    <tr>\n",
       "      <th>1</th>\n",
       "      <td>1</td>\n",
       "      <td>this was the first clive cussler i've ever rea...</td>\n",
       "    </tr>\n",
       "    <tr>\n",
       "      <th>2</th>\n",
       "      <td>1</td>\n",
       "      <td>i liked the Da Vinci Code a lot.</td>\n",
       "    </tr>\n",
       "    <tr>\n",
       "      <th>3</th>\n",
       "      <td>1</td>\n",
       "      <td>i liked the Da Vinci Code a lot.</td>\n",
       "    </tr>\n",
       "    <tr>\n",
       "      <th>4</th>\n",
       "      <td>1</td>\n",
       "      <td>I liked the Da Vinci Code but it ultimatly did...</td>\n",
       "    </tr>\n",
       "  </tbody>\n",
       "</table>\n",
       "</div>"
      ],
      "text/plain": [
       "   Liked                                               Text\n",
       "0      1            The Da Vinci Code book is just awesome.\n",
       "1      1  this was the first clive cussler i've ever rea...\n",
       "2      1                   i liked the Da Vinci Code a lot.\n",
       "3      1                   i liked the Da Vinci Code a lot.\n",
       "4      1  I liked the Da Vinci Code but it ultimatly did..."
      ]
     },
     "execution_count": 4,
     "metadata": {},
     "output_type": "execute_result"
    }
   ],
   "source": [
    "df_review.head()"
   ]
  },
  {
   "cell_type": "code",
   "execution_count": 5,
   "metadata": {},
   "outputs": [
    {
     "data": {
      "text/plain": [
       "1    3995\n",
       "0    3091\n",
       "Name: Liked, dtype: int64"
      ]
     },
     "execution_count": 5,
     "metadata": {},
     "output_type": "execute_result"
    }
   ],
   "source": [
    "df_review.Liked.value_counts()"
   ]
  },
  {
   "cell_type": "code",
   "execution_count": 6,
   "metadata": {},
   "outputs": [
    {
     "data": {
      "text/plain": [
       "10.886819079875812"
      ]
     },
     "execution_count": 6,
     "metadata": {},
     "output_type": "execute_result"
    }
   ],
   "source": [
    "# et's calculate the average number of words per sentence. We could do the following using a list\n",
    "# comprehension with the number of words per sentence\n",
    "\n",
    "np.mean([len(s.split(\" \")) for s in df_review.Text])"
   ]
  },
  {
   "cell_type": "markdown",
   "metadata": {},
   "source": [
    "## Cleaning"
   ]
  },
  {
   "cell_type": "code",
   "execution_count": 7,
   "metadata": {},
   "outputs": [],
   "source": [
    "corpus = [] # defining corpus\n",
    "for i in range(0, len(df_review['Text'])): # giving range of values from 0 to 1000\n",
    "    review = re.sub('[^a-zA-Z]', ' ', df_review['Text'][i]) # using i for all values instead of 1 column\n",
    "    review = review.lower()\n",
    "    review = review.split()\n",
    "    ps = PorterStemmer()\n",
    "    stopword_set = set(stopwords.words('english'))\n",
    "    review = [ps.stem(word) for word in review if not word in stopword_set]\n",
    "    review = ' '.join(review)\n",
    "    corpus.append(review) # finally attach all these cleaned values to corpus directory "
   ]
  },
  {
   "cell_type": "markdown",
   "metadata": {},
   "source": [
    "## Splitting data into test and train"
   ]
  },
  {
   "cell_type": "code",
   "execution_count": 8,
   "metadata": {},
   "outputs": [],
   "source": [
    "corpus_series = pd.Series(corpus)\n",
    "\n",
    "X=corpus_series"
   ]
  },
  {
   "cell_type": "code",
   "execution_count": 9,
   "metadata": {},
   "outputs": [],
   "source": [
    "y=df_review['Liked']"
   ]
  },
  {
   "cell_type": "code",
   "execution_count": 10,
   "metadata": {},
   "outputs": [],
   "source": [
    "from sklearn.model_selection import train_test_split\n",
    "X_train, X_test, y_train, y_test = train_test_split(X, y, test_size=0.20, random_state=0)"
   ]
  },
  {
   "cell_type": "markdown",
   "metadata": {},
   "source": [
    "## Vectorize"
   ]
  },
  {
   "cell_type": "code",
   "execution_count": 11,
   "metadata": {},
   "outputs": [
    {
     "data": {
      "text/plain": [
       "CountVectorizer(analyzer='word', binary=False, decode_error='strict',\n",
       "        dtype=<class 'numpy.int64'>, encoding='utf-8', input='content',\n",
       "        lowercase=True, max_df=1.0, max_features=85, min_df=1,\n",
       "        ngram_range=(1, 1), preprocessor=None, stop_words='english',\n",
       "        strip_accents=None, token_pattern='(?u)\\\\b\\\\w\\\\w+\\\\b',\n",
       "        tokenizer=None, vocabulary=None)"
      ]
     },
     "execution_count": 11,
     "metadata": {},
     "output_type": "execute_result"
    }
   ],
   "source": [
    "count_vectorizer = CountVectorizer(max_features=85,stop_words='english')\n",
    "count_vectorizer"
   ]
  },
  {
   "cell_type": "code",
   "execution_count": 12,
   "metadata": {},
   "outputs": [
    {
     "data": {
      "text/plain": [
       "scipy.sparse.csr.csr_matrix"
      ]
     },
     "execution_count": 12,
     "metadata": {},
     "output_type": "execute_result"
    }
   ],
   "source": [
    "count_train_mat = count_vectorizer.fit_transform(X_train)\n",
    "type(count_train_mat)\n"
   ]
  },
  {
   "cell_type": "code",
   "execution_count": 13,
   "metadata": {},
   "outputs": [
    {
     "data": {
      "text/plain": [
       "numpy.ndarray"
      ]
     },
     "execution_count": 13,
     "metadata": {},
     "output_type": "execute_result"
    }
   ],
   "source": [
    "count_train = count_vectorizer.fit_transform(X_train).toarray()\n",
    "type(count_train)"
   ]
  },
  {
   "cell_type": "code",
   "execution_count": 14,
   "metadata": {},
   "outputs": [
    {
     "data": {
      "text/plain": [
       "scipy.sparse.csr.csr_matrix"
      ]
     },
     "execution_count": 14,
     "metadata": {},
     "output_type": "execute_result"
    }
   ],
   "source": [
    "count_test = count_vectorizer.transform(X_test)\n",
    "type(count_test)"
   ]
  },
  {
   "cell_type": "markdown",
   "metadata": {},
   "source": [
    "### Vocab"
   ]
  },
  {
   "cell_type": "code",
   "execution_count": 15,
   "metadata": {},
   "outputs": [
    {
     "name": "stdout",
     "output_type": "stream",
     "text": [
      "['absolut', 'alway', 'awesom', 'beauti', 'better', 'big', 'bonker', 'book', 'bore', 'brokeback', 'charact', 'code', 'cool', 'cowboy', 'da', 'daniel', 'depress', 'die', 'felicia', 'film', 'freakin', 'friday', 'fuck', 'gay', 'good', 'got', 'great', 'guy', 'harri', 'hate', 'heard', 'hill', 'horribl', 'imposs', 'insan', 'joke', 'know', 'left', 'like', 'love', 'main', 'make', 'man', 'mission', 'mom', 'mountain', 'movi', 'need', 'oh', 'ok', 'opinion', 'peopl', 'person', 'potter', 'read', 'realli', 'review', 'right', 'rock', 'said', 'saw', 'say', 'seen', 'sentri', 'seri', 'stand', 'start', 'station', 'stori', 'stupid', 'suck', 'terribl', 'thing', 'think', 'thought', 'time', 'tom', 'turn', 'type', 'vinci', 'want', 'watch', 'way', 'went', 'yeah']\n"
     ]
    }
   ],
   "source": [
    "# Take a look at the words in the vocabulary\n",
    "vocab = count_vectorizer.get_feature_names()\n",
    "print (vocab)"
   ]
  },
  {
   "cell_type": "code",
   "execution_count": 16,
   "metadata": {},
   "outputs": [
    {
     "name": "stdout",
     "output_type": "stream",
     "text": [
      "85 absolut\n",
      "69 alway\n",
      "926 awesom\n",
      "96 beauti\n",
      "75 better\n",
      "83 big\n",
      "70 bonker\n",
      "130 book\n",
      "72 bore\n",
      "1577 brokeback\n",
      "72 charact\n",
      "1612 code\n",
      "71 cool\n",
      "74 cowboy\n",
      "1611 da\n",
      "69 daniel\n",
      "139 depress\n",
      "72 die\n",
      "134 felicia\n",
      "83 film\n",
      "69 freakin\n",
      "69 friday\n",
      "148 fuck\n",
      "74 gay\n",
      "97 good\n",
      "77 got\n",
      "78 great\n",
      "129 guy\n",
      "1678 harri\n",
      "566 hate\n",
      "78 heard\n",
      "68 hill\n",
      "144 horribl\n",
      "886 imposs\n",
      "68 insan\n",
      "68 joke\n",
      "283 know\n",
      "139 left\n",
      "907 like\n",
      "1505 love\n",
      "71 main\n",
      "131 make\n",
      "70 man\n",
      "887 mission\n",
      "69 mom\n",
      "1577 mountain\n",
      "895 movi\n",
      "69 need\n",
      "140 oh\n",
      "129 ok\n",
      "71 opinion\n",
      "141 peopl\n",
      "77 person\n",
      "1678 potter\n",
      "239 read\n",
      "288 realli\n",
      "70 review\n",
      "201 right\n",
      "132 rock\n",
      "78 said\n",
      "84 saw\n",
      "94 say\n",
      "69 seen\n",
      "70 sentri\n",
      "144 seri\n",
      "69 stand\n",
      "129 start\n",
      "70 station\n",
      "145 stori\n",
      "290 stupid\n",
      "1199 suck\n",
      "145 terribl\n",
      "79 thing\n",
      "175 think\n",
      "74 thought\n",
      "87 time\n",
      "81 tom\n",
      "69 turn\n",
      "69 type\n",
      "1611 vinci\n",
      "264 want\n",
      "159 watch\n",
      "80 way\n",
      "94 went\n",
      "138 yeah\n"
     ]
    }
   ],
   "source": [
    "# Sum up the counts of each vocabulary word\n",
    "dist = np.sum(count_train, axis=0)\n",
    "\n",
    "# For each, print the vocabulary word and the number of times it \n",
    "# appears in the training set\n",
    "for tag, count in list(zip(vocab, dist)):\n",
    "    print (count, tag)"
   ]
  },
  {
   "cell_type": "markdown",
   "metadata": {},
   "source": [
    "# 2.Finding most accurate model"
   ]
  },
  {
   "cell_type": "markdown",
   "metadata": {},
   "source": [
    "### i- SVC"
   ]
  },
  {
   "cell_type": "code",
   "execution_count": 17,
   "metadata": {},
   "outputs": [
    {
     "name": "stdout",
     "output_type": "stream",
     "text": [
      "accuracy:   0.986\n"
     ]
    }
   ],
   "source": [
    "# We can use sklearn algorithms in NLTK\n",
    "from nltk.classify.scikitlearn import SklearnClassifier\n",
    "from sklearn.svm import SVC\n",
    "\n",
    "svc_clf = SVC(kernel='linear', random_state=0)\n",
    "\n",
    "# train the model on the training data\n",
    "svc_clf.fit(count_train_mat, y_train)\n",
    "pred = svc_clf.predict(count_test)\n",
    "score = metrics.accuracy_score(y_test, pred)\n",
    "print(\"accuracy:   %0.3f\" % score)"
   ]
  },
  {
   "cell_type": "markdown",
   "metadata": {},
   "source": [
    "### confusion Matrix\n",
    "A confusion matrix is a table that is often used to describe the performance of a classification model (or \"classifier\") on a set of test data for which the true values are known.<br>\n",
    "Key matrix elements are:<br>\n",
    "true positives (TP): These are cases in which we predicted yes (they have the purchased), and they do have the purchases.<br>\n",
    "true negatives (TN): We predicted no, and they don't have purchased.<br>\n",
    "false positives (FP): We predicted yes, but they have actually not the purchased. (Also known as a \"Type I error.\")<br>\n",
    "false negatives (FN): We predicted no, but they actually ourchased. (Also known as a \"Type II error.\")<br>"
   ]
  },
  {
   "cell_type": "code",
   "execution_count": 18,
   "metadata": {},
   "outputs": [],
   "source": [
    "import itertools\n",
    "def plot_confusion_matrix(cm, classes,\n",
    "                          normalize=False,\n",
    "                          title='Confusion matrix',\n",
    "                          cmap=plt.cm.Blues):\n",
    "    \"\"\"\n",
    "    See full source and example: \n",
    "    http://scikit-learn.org/stable/auto_examples/model_selection/plot_confusion_matrix.html\n",
    "    \n",
    "    This function prints and plots the confusion matrix.\n",
    "    Normalization can be applied by setting `normalize=True`.\n",
    "    \"\"\"\n",
    "    plt.imshow(cm, interpolation='nearest', cmap=cmap)\n",
    "    plt.title(title)\n",
    "    plt.colorbar()\n",
    "    tick_marks = np.arange(len(classes))\n",
    "    plt.xticks(tick_marks, classes, rotation=45)\n",
    "    plt.yticks(tick_marks, classes)\n",
    "\n",
    "    thresh = cm.max() / 2.\n",
    "    for i, j in itertools.product(range(cm.shape[0]), range(cm.shape[1])):\n",
    "        plt.text(j, i, cm[i, j],\n",
    "                 horizontalalignment=\"center\",\n",
    "                 color=\"white\" if cm[i, j] > thresh else \"black\")\n",
    "\n",
    "    plt.tight_layout()\n",
    "    plt.ylabel('True label')\n",
    "    plt.xlabel('Predicted label')"
   ]
  },
  {
   "cell_type": "code",
   "execution_count": 19,
   "metadata": {},
   "outputs": [
    {
     "data": {
      "image/png": "[encoded data removed]",
      "text/plain": [
       "<Figure size 432x288 with 2 Axes>"
      ]
     },
     "metadata": {},
     "output_type": "display_data"
    }
   ],
   "source": [
    "from sklearn.metrics import confusion_matrix\n",
    "cm = confusion_matrix(y_test, pred)\n",
    "plot_confusion_matrix(cm, classes=['Not Liked', 'Liked'])"
   ]
  },
  {
   "cell_type": "markdown",
   "metadata": {},
   "source": [
    "### ii- Naive-Bayes Model"
   ]
  },
  {
   "cell_type": "code",
   "execution_count": 20,
   "metadata": {},
   "outputs": [
    {
     "name": "stdout",
     "output_type": "stream",
     "text": [
      "accuracy:   0.981\n"
     ]
    }
   ],
   "source": [
    "nb_clf = MultinomialNB(alpha=0.1)\n",
    "\n",
    "nb_clf.fit(count_train, y_train)\n",
    "pred = nb_clf.predict(count_test)\n",
    "score = metrics.accuracy_score(y_test, pred)\n",
    "print(\"accuracy:   %0.3f\" % score)"
   ]
  },
  {
   "cell_type": "code",
   "execution_count": 21,
   "metadata": {},
   "outputs": [
    {
     "data": {
      "image/png": "[encoded data removed]",
      "text/plain": [
       "<Figure size 432x288 with 2 Axes>"
      ]
     },
     "metadata": {},
     "output_type": "display_data"
    }
   ],
   "source": [
    "from sklearn.metrics import confusion_matrix\n",
    "cm = confusion_matrix(y_test, pred)\n",
    "plot_confusion_matrix(cm, classes=['Not Liked', 'Liked'])"
   ]
  },
  {
   "cell_type": "code",
   "execution_count": 22,
   "metadata": {},
   "outputs": [
    {
     "data": {
      "text/plain": [
       "'I love the Da Vinci Code.'"
      ]
     },
     "execution_count": 22,
     "metadata": {},
     "output_type": "execute_result"
    }
   ],
   "source": [
    "df_review.Text[120]"
   ]
  },
  {
   "cell_type": "code",
   "execution_count": 23,
   "metadata": {},
   "outputs": [
    {
     "name": "stdout",
     "output_type": "stream",
     "text": [
      "[1]\n"
     ]
    }
   ],
   "source": [
    "movie_reviews_array=np.array([\"I love the Da Vinci Code.\"])\n",
    "movie_review_vector=count_vectorizer.transform(movie_reviews_array)\n",
    "print(nb_clf.predict(movie_review_vector))"
   ]
  },
  {
   "cell_type": "markdown",
   "metadata": {},
   "source": [
    "**It shows our model predicts well. We can test for other model as well to check different results' combination.**"
   ]
  },
  {
   "cell_type": "markdown",
   "metadata": {},
   "source": [
    "### iii-Decision Tree"
   ]
  },
  {
   "cell_type": "code",
   "execution_count": 24,
   "metadata": {},
   "outputs": [
    {
     "name": "stdout",
     "output_type": "stream",
     "text": [
      "accuracy:   0.987\n"
     ]
    }
   ],
   "source": [
    "from sklearn.tree import DecisionTreeClassifier\n",
    "dt_clf=DecisionTreeClassifier(criterion='entropy', random_state=0)\n",
    "\n",
    "dt_clf.fit(count_train, y_train)\n",
    "pred = dt_clf.predict(count_test)\n",
    "score = metrics.accuracy_score(y_test, pred)\n",
    "print(\"accuracy:   %0.3f\" % score)"
   ]
  },
  {
   "cell_type": "code",
   "execution_count": 25,
   "metadata": {},
   "outputs": [
    {
     "data": {
      "image/png": "[encoded data removed]",
      "text/plain": [
       "<Figure size 432x288 with 2 Axes>"
      ]
     },
     "metadata": {},
     "output_type": "display_data"
    }
   ],
   "source": [
    "from sklearn.metrics import confusion_matrix\n",
    "cm = confusion_matrix(y_test, pred)\n",
    "plot_confusion_matrix(cm, classes=['Not Liked', 'Liked'])"
   ]
  },
  {
   "cell_type": "markdown",
   "metadata": {},
   "source": [
    "### iv- Random Forest"
   ]
  },
  {
   "cell_type": "code",
   "execution_count": 26,
   "metadata": {},
   "outputs": [
    {
     "name": "stdout",
     "output_type": "stream",
     "text": [
      "accuracy:   0.987\n"
     ]
    }
   ],
   "source": [
    "from sklearn.ensemble import RandomForestClassifier\n",
    "rf_clf = RandomForestClassifier(n_estimators=10, criterion='entropy', random_state=0)\n",
    "rf_clf.fit(count_train, y_train)\n",
    "pred = rf_clf.predict(count_test)\n",
    "score = metrics.accuracy_score(y_test, pred)\n",
    "print(\"accuracy:   %0.3f\" % score)"
   ]
  },
  {
   "cell_type": "code",
   "execution_count": 27,
   "metadata": {},
   "outputs": [
    {
     "data": {
      "image/png": "[encoded data removed]",
      "text/plain": [
       "<Figure size 432x288 with 2 Axes>"
      ]
     },
     "metadata": {},
     "output_type": "display_data"
    }
   ],
   "source": [
    "from sklearn.metrics import confusion_matrix\n",
    "cm = confusion_matrix(y_test, pred)\n",
    "plot_confusion_matrix(cm, classes=['Not Liked', 'Liked'])"
   ]
  },
  {
   "cell_type": "markdown",
   "metadata": {},
   "source": [
    "### v-SGD"
   ]
  },
  {
   "cell_type": "code",
   "execution_count": 28,
   "metadata": {},
   "outputs": [
    {
     "name": "stdout",
     "output_type": "stream",
     "text": [
      "accuracy:   0.989\n"
     ]
    }
   ],
   "source": [
    "from sklearn.linear_model import SGDClassifier\n",
    "sgd_clf = SGDClassifier()\n",
    "\n",
    "sgd_clf.fit(count_train, y_train)\n",
    "pred = sgd_clf.predict(count_test)\n",
    "score = metrics.accuracy_score(y_test, pred)\n",
    "print(\"accuracy:   %0.3f\" % score)"
   ]
  },
  {
   "cell_type": "code",
   "execution_count": 29,
   "metadata": {},
   "outputs": [
    {
     "data": {
      "image/png": "[encoded data removed]",
      "text/plain": [
       "<Figure size 432x288 with 2 Axes>"
      ]
     },
     "metadata": {},
     "output_type": "display_data"
    }
   ],
   "source": [
    "from sklearn.metrics import confusion_matrix\n",
    "cm = confusion_matrix(y_test, pred)\n",
    "plot_confusion_matrix(cm, classes=['Not Liked', 'Liked'])"
   ]
  },
  {
   "cell_type": "code",
   "execution_count": 30,
   "metadata": {},
   "outputs": [],
   "source": [
    "from sklearn.ensemble import VotingClassifier\n",
    "evc=VotingClassifier(estimators=[('Naive_Bayes', nb_clf),('decision_tree', dt_clf),('Random_Forest', rf_clf),('SGD',sgd_clf)], voting='hard')\n"
   ]
  },
  {
   "cell_type": "code",
   "execution_count": 31,
   "metadata": {},
   "outputs": [
    {
     "data": {
      "text/plain": [
       "VotingClassifier(estimators=[('Naive_Bayes', MultinomialNB(alpha=0.1, class_prior=None, fit_prior=True)), ('decision_tree', DecisionTreeClassifier(class_weight=None, criterion='entropy', max_depth=None,\n",
       "            max_features=None, max_leaf_nodes=None,\n",
       "            min_impurity_decrease=0.0, min_impurity_split=None...='l2', power_t=0.5, random_state=None,\n",
       "       shuffle=True, tol=None, verbose=0, warm_start=False))],\n",
       "         flatten_transform=None, n_jobs=1, voting='hard', weights=None)"
      ]
     },
     "execution_count": 31,
     "metadata": {},
     "output_type": "execute_result"
    }
   ],
   "source": [
    "evc.fit(count_train, y_train)"
   ]
  },
  {
   "cell_type": "code",
   "execution_count": 32,
   "metadata": {},
   "outputs": [
    {
     "data": {
      "text/plain": [
       "(1418,)"
      ]
     },
     "execution_count": 32,
     "metadata": {},
     "output_type": "execute_result"
    }
   ],
   "source": [
    "y_test.shape"
   ]
  },
  {
   "cell_type": "code",
   "execution_count": 33,
   "metadata": {},
   "outputs": [
    {
     "data": {
      "text/plain": [
       "(1418, 85)"
      ]
     },
     "execution_count": 33,
     "metadata": {},
     "output_type": "execute_result"
    }
   ],
   "source": [
    "count_test.shape"
   ]
  },
  {
   "cell_type": "code",
   "execution_count": 34,
   "metadata": {},
   "outputs": [
    {
     "data": {
      "text/plain": [
       "0.9858956276445698"
      ]
     },
     "execution_count": 34,
     "metadata": {},
     "output_type": "execute_result"
    }
   ],
   "source": [
    "evc.score(count_test, y_test)"
   ]
  },
  {
   "cell_type": "markdown",
   "metadata": {},
   "source": [
    "# 3. Sentiment Analysis of tweets"
   ]
  },
  {
   "cell_type": "code",
   "execution_count": 35,
   "metadata": {},
   "outputs": [],
   "source": [
    "import nltk\n",
    "from nltk.sentiment.vader import SentimentIntensityAnalyzer\n",
    "from nltk.sentiment.util import *\n",
    "from nltk import tokenize"
   ]
  },
  {
   "cell_type": "markdown",
   "metadata": {},
   "source": [
    "### checking most common words used"
   ]
  },
  {
   "cell_type": "code",
   "execution_count": 36,
   "metadata": {},
   "outputs": [],
   "source": [
    "from wordcloud import WordCloud, STOPWORDS"
   ]
  },
  {
   "cell_type": "code",
   "execution_count": 37,
   "metadata": {},
   "outputs": [],
   "source": [
    "stopwords=set(STOPWORDS)"
   ]
  },
  {
   "cell_type": "code",
   "execution_count": 47,
   "metadata": {},
   "outputs": [
    {
     "data": {
      "image/png": "[encoded data removed]",
      "text/plain": [
       "<Figure size 1440x1440 with 1 Axes>"
      ]
     },
     "metadata": {},
     "output_type": "display_data"
    }
   ],
   "source": [
    "def Mywordcloud (data, title=None):\n",
    "    wordcloud=WordCloud(\n",
    "    background_color='white',\n",
    "    stopwords=stopwords,\n",
    "    max_words= 200 ,\n",
    "    max_font_size=30 ,\n",
    "    scale=3,\n",
    "    random_state=1\n",
    "    ).generate(str(data))\n",
    "    \n",
    "    fig=plt.figure(1 , figsize(20, 20))\n",
    "    plt.axis('off')\n",
    "    if title:\n",
    "        fig.suptitle(title, fontsize=20)\n",
    "        fig.subplots_adjust(top=2.3)\n",
    "    \n",
    "    plt.imshow(wordcloud)\n",
    "    plt.show()\n",
    "\n",
    "Mywordcloud(df_review[\"Text\"].dropna())"
   ]
  },
  {
   "cell_type": "markdown",
   "metadata": {},
   "source": [
    "**Using vader lexicon for sentiment analysis**"
   ]
  },
  {
   "cell_type": "code",
   "execution_count": 39,
   "metadata": {},
   "outputs": [],
   "source": [
    "plt.rcParams['figure.figsize'] = (6.0, 6.0)\n",
    "sid= SentimentIntensityAnalyzer()"
   ]
  },
  {
   "cell_type": "code",
   "execution_count": 40,
   "metadata": {},
   "outputs": [],
   "source": [
    "df_review['Sent_compound_Polarity'] = df_review.Text.apply(lambda x:sid.polarity_scores(x)['compound'])\n",
    "df_review['Sent_neutral']= df_review.Text.apply(lambda x:sid.polarity_scores(x)['neu'])\n",
    "df_review['Sent_Neg']= df_review.Text.apply (lambda x:sid.polarity_scores(x)['neg'])\n",
    "df_review['Sent_pos']= df_review.Text.apply(lambda x:sid.polarity_scores(x)['pos'])\n",
    "df_review['Sent_type']=''"
   ]
  },
  {
   "cell_type": "code",
   "execution_count": 41,
   "metadata": {},
   "outputs": [
    {
     "data": {
      "text/html": [
       "<div>\n",
       "<style scoped>\n",
       "    .dataframe tbody tr th:only-of-type {\n",
       "        vertical-align: middle;\n",
       "    }\n",
       "\n",
       "    .dataframe tbody tr th {\n",
       "        vertical-align: top;\n",
       "    }\n",
       "\n",
       "    .dataframe thead th {\n",
       "        text-align: right;\n",
       "    }\n",
       "</style>\n",
       "<table border=\"1\" class=\"dataframe\">\n",
       "  <thead>\n",
       "    <tr style=\"text-align: right;\">\n",
       "      <th></th>\n",
       "      <th>0</th>\n",
       "      <th>1</th>\n",
       "      <th>2</th>\n",
       "      <th>3</th>\n",
       "      <th>4</th>\n",
       "      <th>5</th>\n",
       "      <th>6</th>\n",
       "      <th>7</th>\n",
       "      <th>8</th>\n",
       "      <th>9</th>\n",
       "      <th>...</th>\n",
       "      <th>7076</th>\n",
       "      <th>7077</th>\n",
       "      <th>7078</th>\n",
       "      <th>7079</th>\n",
       "      <th>7080</th>\n",
       "      <th>7081</th>\n",
       "      <th>7082</th>\n",
       "      <th>7083</th>\n",
       "      <th>7084</th>\n",
       "      <th>7085</th>\n",
       "    </tr>\n",
       "  </thead>\n",
       "  <tbody>\n",
       "    <tr>\n",
       "      <th>Liked</th>\n",
       "      <td>1</td>\n",
       "      <td>1</td>\n",
       "      <td>1</td>\n",
       "      <td>1</td>\n",
       "      <td>1</td>\n",
       "      <td>1</td>\n",
       "      <td>1</td>\n",
       "      <td>1</td>\n",
       "      <td>1</td>\n",
       "      <td>1</td>\n",
       "      <td>...</td>\n",
       "      <td>0</td>\n",
       "      <td>0</td>\n",
       "      <td>0</td>\n",
       "      <td>0</td>\n",
       "      <td>0</td>\n",
       "      <td>0</td>\n",
       "      <td>0</td>\n",
       "      <td>0</td>\n",
       "      <td>0</td>\n",
       "      <td>0</td>\n",
       "    </tr>\n",
       "    <tr>\n",
       "      <th>Text</th>\n",
       "      <td>The Da Vinci Code book is just awesome.</td>\n",
       "      <td>this was the first clive cussler i've ever rea...</td>\n",
       "      <td>i liked the Da Vinci Code a lot.</td>\n",
       "      <td>i liked the Da Vinci Code a lot.</td>\n",
       "      <td>I liked the Da Vinci Code but it ultimatly did...</td>\n",
       "      <td>that's not even an exaggeration ) and at midni...</td>\n",
       "      <td>I loved the Da Vinci Code, but now I want some...</td>\n",
       "      <td>i thought da vinci code was great, same with k...</td>\n",
       "      <td>The Da Vinci Code is actually a good movie...</td>\n",
       "      <td>I thought the Da Vinci Code was a pretty good ...</td>\n",
       "      <td>...</td>\n",
       "      <td>Brokeback Mountain is fucking horrible..</td>\n",
       "      <td>Then snuck into Brokeback Mountain, which is t...</td>\n",
       "      <td>, she helped me bobbypin my insanely cool hat ...</td>\n",
       "      <td>My dad's being stupid about brokeback mountain...</td>\n",
       "      <td>Oh, and Brokeback Mountain is a TERRIBLE movie...</td>\n",
       "      <td>Brokeback Mountain was boring.</td>\n",
       "      <td>So Brokeback Mountain was really depressing.</td>\n",
       "      <td>As I sit here, watching the MTV Movie Awards, ...</td>\n",
       "      <td>Ok brokeback mountain is such a horrible movie.</td>\n",
       "      <td>Oh, and Brokeback Mountain was a terrible movie.</td>\n",
       "    </tr>\n",
       "    <tr>\n",
       "      <th>Sent_compound_Polarity</th>\n",
       "      <td>0.6249</td>\n",
       "      <td>0.5023</td>\n",
       "      <td>0.4215</td>\n",
       "      <td>0.4215</td>\n",
       "      <td>0.2263</td>\n",
       "      <td>0.5859</td>\n",
       "      <td>0.793</td>\n",
       "      <td>0.6249</td>\n",
       "      <td>0.4404</td>\n",
       "      <td>0.7269</td>\n",
       "      <td>...</td>\n",
       "      <td>0</td>\n",
       "      <td>-0.4391</td>\n",
       "      <td>0.2263</td>\n",
       "      <td>-0.5267</td>\n",
       "      <td>-0.5904</td>\n",
       "      <td>-0.3182</td>\n",
       "      <td>-0.4391</td>\n",
       "      <td>0.0772</td>\n",
       "      <td>-0.3182</td>\n",
       "      <td>-0.4767</td>\n",
       "    </tr>\n",
       "    <tr>\n",
       "      <th>Sent_neutral</th>\n",
       "      <td>0.631</td>\n",
       "      <td>0.871</td>\n",
       "      <td>0.641</td>\n",
       "      <td>0.641</td>\n",
       "      <td>0.872</td>\n",
       "      <td>0.853</td>\n",
       "      <td>0.528</td>\n",
       "      <td>0.687</td>\n",
       "      <td>0.707</td>\n",
       "      <td>0.534</td>\n",
       "      <td>...</td>\n",
       "      <td>1</td>\n",
       "      <td>0.818</td>\n",
       "      <td>0.674</td>\n",
       "      <td>0.638</td>\n",
       "      <td>0.61</td>\n",
       "      <td>0.566</td>\n",
       "      <td>0.633</td>\n",
       "      <td>0.737</td>\n",
       "      <td>0.467</td>\n",
       "      <td>0.659</td>\n",
       "    </tr>\n",
       "    <tr>\n",
       "      <th>Sent_Neg</th>\n",
       "      <td>0</td>\n",
       "      <td>0</td>\n",
       "      <td>0</td>\n",
       "      <td>0</td>\n",
       "      <td>0</td>\n",
       "      <td>0</td>\n",
       "      <td>0</td>\n",
       "      <td>0</td>\n",
       "      <td>0</td>\n",
       "      <td>0</td>\n",
       "      <td>...</td>\n",
       "      <td>0</td>\n",
       "      <td>0.182</td>\n",
       "      <td>0.127</td>\n",
       "      <td>0.362</td>\n",
       "      <td>0.39</td>\n",
       "      <td>0.434</td>\n",
       "      <td>0.367</td>\n",
       "      <td>0.124</td>\n",
       "      <td>0.327</td>\n",
       "      <td>0.341</td>\n",
       "    </tr>\n",
       "    <tr>\n",
       "      <th>Sent_pos</th>\n",
       "      <td>0.369</td>\n",
       "      <td>0.129</td>\n",
       "      <td>0.359</td>\n",
       "      <td>0.359</td>\n",
       "      <td>0.128</td>\n",
       "      <td>0.147</td>\n",
       "      <td>0.472</td>\n",
       "      <td>0.313</td>\n",
       "      <td>0.293</td>\n",
       "      <td>0.466</td>\n",
       "      <td>...</td>\n",
       "      <td>0</td>\n",
       "      <td>0</td>\n",
       "      <td>0.199</td>\n",
       "      <td>0</td>\n",
       "      <td>0</td>\n",
       "      <td>0</td>\n",
       "      <td>0</td>\n",
       "      <td>0.138</td>\n",
       "      <td>0.206</td>\n",
       "      <td>0</td>\n",
       "    </tr>\n",
       "    <tr>\n",
       "      <th>Sent_type</th>\n",
       "      <td></td>\n",
       "      <td></td>\n",
       "      <td></td>\n",
       "      <td></td>\n",
       "      <td></td>\n",
       "      <td></td>\n",
       "      <td></td>\n",
       "      <td></td>\n",
       "      <td></td>\n",
       "      <td></td>\n",
       "      <td>...</td>\n",
       "      <td></td>\n",
       "      <td></td>\n",
       "      <td></td>\n",
       "      <td></td>\n",
       "      <td></td>\n",
       "      <td></td>\n",
       "      <td></td>\n",
       "      <td></td>\n",
       "      <td></td>\n",
       "      <td></td>\n",
       "    </tr>\n",
       "  </tbody>\n",
       "</table>\n",
       "<p>7 rows × 7086 columns</p>\n",
       "</div>"
      ],
      "text/plain": [
       "                                                           0     \\\n",
       "Liked                                                         1   \n",
       "Text                    The Da Vinci Code book is just awesome.   \n",
       "Sent_compound_Polarity                                   0.6249   \n",
       "Sent_neutral                                              0.631   \n",
       "Sent_Neg                                                      0   \n",
       "Sent_pos                                                  0.369   \n",
       "Sent_type                                                         \n",
       "\n",
       "                                                                     1     \\\n",
       "Liked                                                                   1   \n",
       "Text                    this was the first clive cussler i've ever rea...   \n",
       "Sent_compound_Polarity                                             0.5023   \n",
       "Sent_neutral                                                        0.871   \n",
       "Sent_Neg                                                                0   \n",
       "Sent_pos                                                            0.129   \n",
       "Sent_type                                                                   \n",
       "\n",
       "                                                    2     \\\n",
       "Liked                                                  1   \n",
       "Text                    i liked the Da Vinci Code a lot.   \n",
       "Sent_compound_Polarity                            0.4215   \n",
       "Sent_neutral                                       0.641   \n",
       "Sent_Neg                                               0   \n",
       "Sent_pos                                           0.359   \n",
       "Sent_type                                                  \n",
       "\n",
       "                                                    3     \\\n",
       "Liked                                                  1   \n",
       "Text                    i liked the Da Vinci Code a lot.   \n",
       "Sent_compound_Polarity                            0.4215   \n",
       "Sent_neutral                                       0.641   \n",
       "Sent_Neg                                               0   \n",
       "Sent_pos                                           0.359   \n",
       "Sent_type                                                  \n",
       "\n",
       "                                                                     4     \\\n",
       "Liked                                                                   1   \n",
       "Text                    I liked the Da Vinci Code but it ultimatly did...   \n",
       "Sent_compound_Polarity                                             0.2263   \n",
       "Sent_neutral                                                        0.872   \n",
       "Sent_Neg                                                                0   \n",
       "Sent_pos                                                            0.128   \n",
       "Sent_type                                                                   \n",
       "\n",
       "                                                                     5     \\\n",
       "Liked                                                                   1   \n",
       "Text                    that's not even an exaggeration ) and at midni...   \n",
       "Sent_compound_Polarity                                             0.5859   \n",
       "Sent_neutral                                                        0.853   \n",
       "Sent_Neg                                                                0   \n",
       "Sent_pos                                                            0.147   \n",
       "Sent_type                                                                   \n",
       "\n",
       "                                                                     6     \\\n",
       "Liked                                                                   1   \n",
       "Text                    I loved the Da Vinci Code, but now I want some...   \n",
       "Sent_compound_Polarity                                              0.793   \n",
       "Sent_neutral                                                        0.528   \n",
       "Sent_Neg                                                                0   \n",
       "Sent_pos                                                            0.472   \n",
       "Sent_type                                                                   \n",
       "\n",
       "                                                                     7     \\\n",
       "Liked                                                                   1   \n",
       "Text                    i thought da vinci code was great, same with k...   \n",
       "Sent_compound_Polarity                                             0.6249   \n",
       "Sent_neutral                                                        0.687   \n",
       "Sent_Neg                                                                0   \n",
       "Sent_pos                                                            0.313   \n",
       "Sent_type                                                                   \n",
       "\n",
       "                                                                 8     \\\n",
       "Liked                                                               1   \n",
       "Text                    The Da Vinci Code is actually a good movie...   \n",
       "Sent_compound_Polarity                                         0.4404   \n",
       "Sent_neutral                                                    0.707   \n",
       "Sent_Neg                                                            0   \n",
       "Sent_pos                                                        0.293   \n",
       "Sent_type                                                               \n",
       "\n",
       "                                                                     9     \\\n",
       "Liked                                                                   1   \n",
       "Text                    I thought the Da Vinci Code was a pretty good ...   \n",
       "Sent_compound_Polarity                                             0.7269   \n",
       "Sent_neutral                                                        0.534   \n",
       "Sent_Neg                                                                0   \n",
       "Sent_pos                                                            0.466   \n",
       "Sent_type                                                                   \n",
       "\n",
       "                                              ...                         \\\n",
       "Liked                                         ...                          \n",
       "Text                                          ...                          \n",
       "Sent_compound_Polarity                        ...                          \n",
       "Sent_neutral                                  ...                          \n",
       "Sent_Neg                                      ...                          \n",
       "Sent_pos                                      ...                          \n",
       "Sent_type                                     ...                          \n",
       "\n",
       "                                                            7076  \\\n",
       "Liked                                                          0   \n",
       "Text                    Brokeback Mountain is fucking horrible..   \n",
       "Sent_compound_Polarity                                         0   \n",
       "Sent_neutral                                                   1   \n",
       "Sent_Neg                                                       0   \n",
       "Sent_pos                                                       0   \n",
       "Sent_type                                                          \n",
       "\n",
       "                                                                     7077  \\\n",
       "Liked                                                                   0   \n",
       "Text                    Then snuck into Brokeback Mountain, which is t...   \n",
       "Sent_compound_Polarity                                            -0.4391   \n",
       "Sent_neutral                                                        0.818   \n",
       "Sent_Neg                                                            0.182   \n",
       "Sent_pos                                                                0   \n",
       "Sent_type                                                                   \n",
       "\n",
       "                                                                     7078  \\\n",
       "Liked                                                                   0   \n",
       "Text                    , she helped me bobbypin my insanely cool hat ...   \n",
       "Sent_compound_Polarity                                             0.2263   \n",
       "Sent_neutral                                                        0.674   \n",
       "Sent_Neg                                                            0.127   \n",
       "Sent_pos                                                            0.199   \n",
       "Sent_type                                                                   \n",
       "\n",
       "                                                                     7079  \\\n",
       "Liked                                                                   0   \n",
       "Text                    My dad's being stupid about brokeback mountain...   \n",
       "Sent_compound_Polarity                                            -0.5267   \n",
       "Sent_neutral                                                        0.638   \n",
       "Sent_Neg                                                            0.362   \n",
       "Sent_pos                                                                0   \n",
       "Sent_type                                                                   \n",
       "\n",
       "                                                                     7080  \\\n",
       "Liked                                                                   0   \n",
       "Text                    Oh, and Brokeback Mountain is a TERRIBLE movie...   \n",
       "Sent_compound_Polarity                                            -0.5904   \n",
       "Sent_neutral                                                         0.61   \n",
       "Sent_Neg                                                             0.39   \n",
       "Sent_pos                                                                0   \n",
       "Sent_type                                                                   \n",
       "\n",
       "                                                  7081  \\\n",
       "Liked                                                0   \n",
       "Text                    Brokeback Mountain was boring.   \n",
       "Sent_compound_Polarity                         -0.3182   \n",
       "Sent_neutral                                     0.566   \n",
       "Sent_Neg                                         0.434   \n",
       "Sent_pos                                             0   \n",
       "Sent_type                                                \n",
       "\n",
       "                                                                7082  \\\n",
       "Liked                                                              0   \n",
       "Text                    So Brokeback Mountain was really depressing.   \n",
       "Sent_compound_Polarity                                       -0.4391   \n",
       "Sent_neutral                                                   0.633   \n",
       "Sent_Neg                                                       0.367   \n",
       "Sent_pos                                                           0   \n",
       "Sent_type                                                              \n",
       "\n",
       "                                                                     7083  \\\n",
       "Liked                                                                   0   \n",
       "Text                    As I sit here, watching the MTV Movie Awards, ...   \n",
       "Sent_compound_Polarity                                             0.0772   \n",
       "Sent_neutral                                                        0.737   \n",
       "Sent_Neg                                                            0.124   \n",
       "Sent_pos                                                            0.138   \n",
       "Sent_type                                                                   \n",
       "\n",
       "                                                                   7084  \\\n",
       "Liked                                                                 0   \n",
       "Text                    Ok brokeback mountain is such a horrible movie.   \n",
       "Sent_compound_Polarity                                          -0.3182   \n",
       "Sent_neutral                                                      0.467   \n",
       "Sent_Neg                                                          0.327   \n",
       "Sent_pos                                                          0.206   \n",
       "Sent_type                                                                 \n",
       "\n",
       "                                                                    7085  \n",
       "Liked                                                                  0  \n",
       "Text                    Oh, and Brokeback Mountain was a terrible movie.  \n",
       "Sent_compound_Polarity                                           -0.4767  \n",
       "Sent_neutral                                                       0.659  \n",
       "Sent_Neg                                                           0.341  \n",
       "Sent_pos                                                               0  \n",
       "Sent_type                                                                 \n",
       "\n",
       "[7 rows x 7086 columns]"
      ]
     },
     "execution_count": 41,
     "metadata": {},
     "output_type": "execute_result"
    }
   ],
   "source": [
    "df_review.transpose()"
   ]
  },
  {
   "cell_type": "code",
   "execution_count": 42,
   "metadata": {},
   "outputs": [],
   "source": [
    "df_review.loc[df_review.Sent_compound_Polarity > 0, 'Sent_type']= 'Positive'\n",
    "\n",
    "df_review.loc[df_review.Sent_compound_Polarity == 0, 'Sent_type']= 'Neutral'\n",
    "\n",
    "df_review.loc[df_review.Sent_compound_Polarity < 0, 'Sent_type']= 'Negative'"
   ]
  },
  {
   "cell_type": "code",
   "execution_count": 43,
   "metadata": {},
   "outputs": [
    {
     "data": {
      "text/html": [
       "<div>\n",
       "<style scoped>\n",
       "    .dataframe tbody tr th:only-of-type {\n",
       "        vertical-align: middle;\n",
       "    }\n",
       "\n",
       "    .dataframe tbody tr th {\n",
       "        vertical-align: top;\n",
       "    }\n",
       "\n",
       "    .dataframe thead th {\n",
       "        text-align: right;\n",
       "    }\n",
       "</style>\n",
       "<table border=\"1\" class=\"dataframe\">\n",
       "  <thead>\n",
       "    <tr style=\"text-align: right;\">\n",
       "      <th></th>\n",
       "      <th>0</th>\n",
       "      <th>1</th>\n",
       "      <th>2</th>\n",
       "      <th>3</th>\n",
       "      <th>4</th>\n",
       "      <th>5</th>\n",
       "      <th>6</th>\n",
       "      <th>7</th>\n",
       "      <th>8</th>\n",
       "      <th>9</th>\n",
       "      <th>...</th>\n",
       "      <th>7076</th>\n",
       "      <th>7077</th>\n",
       "      <th>7078</th>\n",
       "      <th>7079</th>\n",
       "      <th>7080</th>\n",
       "      <th>7081</th>\n",
       "      <th>7082</th>\n",
       "      <th>7083</th>\n",
       "      <th>7084</th>\n",
       "      <th>7085</th>\n",
       "    </tr>\n",
       "  </thead>\n",
       "  <tbody>\n",
       "    <tr>\n",
       "      <th>Liked</th>\n",
       "      <td>1</td>\n",
       "      <td>1</td>\n",
       "      <td>1</td>\n",
       "      <td>1</td>\n",
       "      <td>1</td>\n",
       "      <td>1</td>\n",
       "      <td>1</td>\n",
       "      <td>1</td>\n",
       "      <td>1</td>\n",
       "      <td>1</td>\n",
       "      <td>...</td>\n",
       "      <td>0</td>\n",
       "      <td>0</td>\n",
       "      <td>0</td>\n",
       "      <td>0</td>\n",
       "      <td>0</td>\n",
       "      <td>0</td>\n",
       "      <td>0</td>\n",
       "      <td>0</td>\n",
       "      <td>0</td>\n",
       "      <td>0</td>\n",
       "    </tr>\n",
       "    <tr>\n",
       "      <th>Text</th>\n",
       "      <td>The Da Vinci Code book is just awesome.</td>\n",
       "      <td>this was the first clive cussler i've ever rea...</td>\n",
       "      <td>i liked the Da Vinci Code a lot.</td>\n",
       "      <td>i liked the Da Vinci Code a lot.</td>\n",
       "      <td>I liked the Da Vinci Code but it ultimatly did...</td>\n",
       "      <td>that's not even an exaggeration ) and at midni...</td>\n",
       "      <td>I loved the Da Vinci Code, but now I want some...</td>\n",
       "      <td>i thought da vinci code was great, same with k...</td>\n",
       "      <td>The Da Vinci Code is actually a good movie...</td>\n",
       "      <td>I thought the Da Vinci Code was a pretty good ...</td>\n",
       "      <td>...</td>\n",
       "      <td>Brokeback Mountain is fucking horrible..</td>\n",
       "      <td>Then snuck into Brokeback Mountain, which is t...</td>\n",
       "      <td>, she helped me bobbypin my insanely cool hat ...</td>\n",
       "      <td>My dad's being stupid about brokeback mountain...</td>\n",
       "      <td>Oh, and Brokeback Mountain is a TERRIBLE movie...</td>\n",
       "      <td>Brokeback Mountain was boring.</td>\n",
       "      <td>So Brokeback Mountain was really depressing.</td>\n",
       "      <td>As I sit here, watching the MTV Movie Awards, ...</td>\n",
       "      <td>Ok brokeback mountain is such a horrible movie.</td>\n",
       "      <td>Oh, and Brokeback Mountain was a terrible movie.</td>\n",
       "    </tr>\n",
       "    <tr>\n",
       "      <th>Sent_compound_Polarity</th>\n",
       "      <td>0.6249</td>\n",
       "      <td>0.5023</td>\n",
       "      <td>0.4215</td>\n",
       "      <td>0.4215</td>\n",
       "      <td>0.2263</td>\n",
       "      <td>0.5859</td>\n",
       "      <td>0.793</td>\n",
       "      <td>0.6249</td>\n",
       "      <td>0.4404</td>\n",
       "      <td>0.7269</td>\n",
       "      <td>...</td>\n",
       "      <td>0</td>\n",
       "      <td>-0.4391</td>\n",
       "      <td>0.2263</td>\n",
       "      <td>-0.5267</td>\n",
       "      <td>-0.5904</td>\n",
       "      <td>-0.3182</td>\n",
       "      <td>-0.4391</td>\n",
       "      <td>0.0772</td>\n",
       "      <td>-0.3182</td>\n",
       "      <td>-0.4767</td>\n",
       "    </tr>\n",
       "    <tr>\n",
       "      <th>Sent_neutral</th>\n",
       "      <td>0.631</td>\n",
       "      <td>0.871</td>\n",
       "      <td>0.641</td>\n",
       "      <td>0.641</td>\n",
       "      <td>0.872</td>\n",
       "      <td>0.853</td>\n",
       "      <td>0.528</td>\n",
       "      <td>0.687</td>\n",
       "      <td>0.707</td>\n",
       "      <td>0.534</td>\n",
       "      <td>...</td>\n",
       "      <td>1</td>\n",
       "      <td>0.818</td>\n",
       "      <td>0.674</td>\n",
       "      <td>0.638</td>\n",
       "      <td>0.61</td>\n",
       "      <td>0.566</td>\n",
       "      <td>0.633</td>\n",
       "      <td>0.737</td>\n",
       "      <td>0.467</td>\n",
       "      <td>0.659</td>\n",
       "    </tr>\n",
       "    <tr>\n",
       "      <th>Sent_Neg</th>\n",
       "      <td>0</td>\n",
       "      <td>0</td>\n",
       "      <td>0</td>\n",
       "      <td>0</td>\n",
       "      <td>0</td>\n",
       "      <td>0</td>\n",
       "      <td>0</td>\n",
       "      <td>0</td>\n",
       "      <td>0</td>\n",
       "      <td>0</td>\n",
       "      <td>...</td>\n",
       "      <td>0</td>\n",
       "      <td>0.182</td>\n",
       "      <td>0.127</td>\n",
       "      <td>0.362</td>\n",
       "      <td>0.39</td>\n",
       "      <td>0.434</td>\n",
       "      <td>0.367</td>\n",
       "      <td>0.124</td>\n",
       "      <td>0.327</td>\n",
       "      <td>0.341</td>\n",
       "    </tr>\n",
       "    <tr>\n",
       "      <th>Sent_pos</th>\n",
       "      <td>0.369</td>\n",
       "      <td>0.129</td>\n",
       "      <td>0.359</td>\n",
       "      <td>0.359</td>\n",
       "      <td>0.128</td>\n",
       "      <td>0.147</td>\n",
       "      <td>0.472</td>\n",
       "      <td>0.313</td>\n",
       "      <td>0.293</td>\n",
       "      <td>0.466</td>\n",
       "      <td>...</td>\n",
       "      <td>0</td>\n",
       "      <td>0</td>\n",
       "      <td>0.199</td>\n",
       "      <td>0</td>\n",
       "      <td>0</td>\n",
       "      <td>0</td>\n",
       "      <td>0</td>\n",
       "      <td>0.138</td>\n",
       "      <td>0.206</td>\n",
       "      <td>0</td>\n",
       "    </tr>\n",
       "    <tr>\n",
       "      <th>Sent_type</th>\n",
       "      <td>Positive</td>\n",
       "      <td>Positive</td>\n",
       "      <td>Positive</td>\n",
       "      <td>Positive</td>\n",
       "      <td>Positive</td>\n",
       "      <td>Positive</td>\n",
       "      <td>Positive</td>\n",
       "      <td>Positive</td>\n",
       "      <td>Positive</td>\n",
       "      <td>Positive</td>\n",
       "      <td>...</td>\n",
       "      <td>Neutral</td>\n",
       "      <td>Negative</td>\n",
       "      <td>Positive</td>\n",
       "      <td>Negative</td>\n",
       "      <td>Negative</td>\n",
       "      <td>Negative</td>\n",
       "      <td>Negative</td>\n",
       "      <td>Positive</td>\n",
       "      <td>Negative</td>\n",
       "      <td>Negative</td>\n",
       "    </tr>\n",
       "  </tbody>\n",
       "</table>\n",
       "<p>7 rows × 7086 columns</p>\n",
       "</div>"
      ],
      "text/plain": [
       "                                                           0     \\\n",
       "Liked                                                         1   \n",
       "Text                    The Da Vinci Code book is just awesome.   \n",
       "Sent_compound_Polarity                                   0.6249   \n",
       "Sent_neutral                                              0.631   \n",
       "Sent_Neg                                                      0   \n",
       "Sent_pos                                                  0.369   \n",
       "Sent_type                                              Positive   \n",
       "\n",
       "                                                                     1     \\\n",
       "Liked                                                                   1   \n",
       "Text                    this was the first clive cussler i've ever rea...   \n",
       "Sent_compound_Polarity                                             0.5023   \n",
       "Sent_neutral                                                        0.871   \n",
       "Sent_Neg                                                                0   \n",
       "Sent_pos                                                            0.129   \n",
       "Sent_type                                                        Positive   \n",
       "\n",
       "                                                    2     \\\n",
       "Liked                                                  1   \n",
       "Text                    i liked the Da Vinci Code a lot.   \n",
       "Sent_compound_Polarity                            0.4215   \n",
       "Sent_neutral                                       0.641   \n",
       "Sent_Neg                                               0   \n",
       "Sent_pos                                           0.359   \n",
       "Sent_type                                       Positive   \n",
       "\n",
       "                                                    3     \\\n",
       "Liked                                                  1   \n",
       "Text                    i liked the Da Vinci Code a lot.   \n",
       "Sent_compound_Polarity                            0.4215   \n",
       "Sent_neutral                                       0.641   \n",
       "Sent_Neg                                               0   \n",
       "Sent_pos                                           0.359   \n",
       "Sent_type                                       Positive   \n",
       "\n",
       "                                                                     4     \\\n",
       "Liked                                                                   1   \n",
       "Text                    I liked the Da Vinci Code but it ultimatly did...   \n",
       "Sent_compound_Polarity                                             0.2263   \n",
       "Sent_neutral                                                        0.872   \n",
       "Sent_Neg                                                                0   \n",
       "Sent_pos                                                            0.128   \n",
       "Sent_type                                                        Positive   \n",
       "\n",
       "                                                                     5     \\\n",
       "Liked                                                                   1   \n",
       "Text                    that's not even an exaggeration ) and at midni...   \n",
       "Sent_compound_Polarity                                             0.5859   \n",
       "Sent_neutral                                                        0.853   \n",
       "Sent_Neg                                                                0   \n",
       "Sent_pos                                                            0.147   \n",
       "Sent_type                                                        Positive   \n",
       "\n",
       "                                                                     6     \\\n",
       "Liked                                                                   1   \n",
       "Text                    I loved the Da Vinci Code, but now I want some...   \n",
       "Sent_compound_Polarity                                              0.793   \n",
       "Sent_neutral                                                        0.528   \n",
       "Sent_Neg                                                                0   \n",
       "Sent_pos                                                            0.472   \n",
       "Sent_type                                                        Positive   \n",
       "\n",
       "                                                                     7     \\\n",
       "Liked                                                                   1   \n",
       "Text                    i thought da vinci code was great, same with k...   \n",
       "Sent_compound_Polarity                                             0.6249   \n",
       "Sent_neutral                                                        0.687   \n",
       "Sent_Neg                                                                0   \n",
       "Sent_pos                                                            0.313   \n",
       "Sent_type                                                        Positive   \n",
       "\n",
       "                                                                 8     \\\n",
       "Liked                                                               1   \n",
       "Text                    The Da Vinci Code is actually a good movie...   \n",
       "Sent_compound_Polarity                                         0.4404   \n",
       "Sent_neutral                                                    0.707   \n",
       "Sent_Neg                                                            0   \n",
       "Sent_pos                                                        0.293   \n",
       "Sent_type                                                    Positive   \n",
       "\n",
       "                                                                     9     \\\n",
       "Liked                                                                   1   \n",
       "Text                    I thought the Da Vinci Code was a pretty good ...   \n",
       "Sent_compound_Polarity                                             0.7269   \n",
       "Sent_neutral                                                        0.534   \n",
       "Sent_Neg                                                                0   \n",
       "Sent_pos                                                            0.466   \n",
       "Sent_type                                                        Positive   \n",
       "\n",
       "                                              ...                         \\\n",
       "Liked                                         ...                          \n",
       "Text                                          ...                          \n",
       "Sent_compound_Polarity                        ...                          \n",
       "Sent_neutral                                  ...                          \n",
       "Sent_Neg                                      ...                          \n",
       "Sent_pos                                      ...                          \n",
       "Sent_type                                     ...                          \n",
       "\n",
       "                                                            7076  \\\n",
       "Liked                                                          0   \n",
       "Text                    Brokeback Mountain is fucking horrible..   \n",
       "Sent_compound_Polarity                                         0   \n",
       "Sent_neutral                                                   1   \n",
       "Sent_Neg                                                       0   \n",
       "Sent_pos                                                       0   \n",
       "Sent_type                                                Neutral   \n",
       "\n",
       "                                                                     7077  \\\n",
       "Liked                                                                   0   \n",
       "Text                    Then snuck into Brokeback Mountain, which is t...   \n",
       "Sent_compound_Polarity                                            -0.4391   \n",
       "Sent_neutral                                                        0.818   \n",
       "Sent_Neg                                                            0.182   \n",
       "Sent_pos                                                                0   \n",
       "Sent_type                                                        Negative   \n",
       "\n",
       "                                                                     7078  \\\n",
       "Liked                                                                   0   \n",
       "Text                    , she helped me bobbypin my insanely cool hat ...   \n",
       "Sent_compound_Polarity                                             0.2263   \n",
       "Sent_neutral                                                        0.674   \n",
       "Sent_Neg                                                            0.127   \n",
       "Sent_pos                                                            0.199   \n",
       "Sent_type                                                        Positive   \n",
       "\n",
       "                                                                     7079  \\\n",
       "Liked                                                                   0   \n",
       "Text                    My dad's being stupid about brokeback mountain...   \n",
       "Sent_compound_Polarity                                            -0.5267   \n",
       "Sent_neutral                                                        0.638   \n",
       "Sent_Neg                                                            0.362   \n",
       "Sent_pos                                                                0   \n",
       "Sent_type                                                        Negative   \n",
       "\n",
       "                                                                     7080  \\\n",
       "Liked                                                                   0   \n",
       "Text                    Oh, and Brokeback Mountain is a TERRIBLE movie...   \n",
       "Sent_compound_Polarity                                            -0.5904   \n",
       "Sent_neutral                                                         0.61   \n",
       "Sent_Neg                                                             0.39   \n",
       "Sent_pos                                                                0   \n",
       "Sent_type                                                        Negative   \n",
       "\n",
       "                                                  7081  \\\n",
       "Liked                                                0   \n",
       "Text                    Brokeback Mountain was boring.   \n",
       "Sent_compound_Polarity                         -0.3182   \n",
       "Sent_neutral                                     0.566   \n",
       "Sent_Neg                                         0.434   \n",
       "Sent_pos                                             0   \n",
       "Sent_type                                     Negative   \n",
       "\n",
       "                                                                7082  \\\n",
       "Liked                                                              0   \n",
       "Text                    So Brokeback Mountain was really depressing.   \n",
       "Sent_compound_Polarity                                       -0.4391   \n",
       "Sent_neutral                                                   0.633   \n",
       "Sent_Neg                                                       0.367   \n",
       "Sent_pos                                                           0   \n",
       "Sent_type                                                   Negative   \n",
       "\n",
       "                                                                     7083  \\\n",
       "Liked                                                                   0   \n",
       "Text                    As I sit here, watching the MTV Movie Awards, ...   \n",
       "Sent_compound_Polarity                                             0.0772   \n",
       "Sent_neutral                                                        0.737   \n",
       "Sent_Neg                                                            0.124   \n",
       "Sent_pos                                                            0.138   \n",
       "Sent_type                                                        Positive   \n",
       "\n",
       "                                                                   7084  \\\n",
       "Liked                                                                 0   \n",
       "Text                    Ok brokeback mountain is such a horrible movie.   \n",
       "Sent_compound_Polarity                                          -0.3182   \n",
       "Sent_neutral                                                      0.467   \n",
       "Sent_Neg                                                          0.327   \n",
       "Sent_pos                                                          0.206   \n",
       "Sent_type                                                      Negative   \n",
       "\n",
       "                                                                    7085  \n",
       "Liked                                                                  0  \n",
       "Text                    Oh, and Brokeback Mountain was a terrible movie.  \n",
       "Sent_compound_Polarity                                           -0.4767  \n",
       "Sent_neutral                                                       0.659  \n",
       "Sent_Neg                                                           0.341  \n",
       "Sent_pos                                                               0  \n",
       "Sent_type                                                       Negative  \n",
       "\n",
       "[7 rows x 7086 columns]"
      ]
     },
     "execution_count": 43,
     "metadata": {},
     "output_type": "execute_result"
    }
   ],
   "source": [
    "df_review.transpose()"
   ]
  },
  {
   "cell_type": "code",
   "execution_count": 44,
   "metadata": {},
   "outputs": [
    {
     "data": {
      "text/plain": [
       "'Brokeback Mountain was so awesome.'"
      ]
     },
     "execution_count": 44,
     "metadata": {},
     "output_type": "execute_result"
    }
   ],
   "source": [
    "df_review.Text[3888]"
   ]
  },
  {
   "cell_type": "code",
   "execution_count": 45,
   "metadata": {},
   "outputs": [
    {
     "data": {
      "text/plain": [
       "Positive    3858\n",
       "Negative    2427\n",
       "Neutral      801\n",
       "Name: Sent_type, dtype: int64"
      ]
     },
     "execution_count": 45,
     "metadata": {},
     "output_type": "execute_result"
    }
   ],
   "source": [
    "reviews_sentiment=df_review.Sent_type.value_counts()\n",
    "reviews_sentiment"
   ]
  },
  {
   "cell_type": "code",
   "execution_count": 46,
   "metadata": {},
   "outputs": [
    {
     "data": {
      "text/plain": [
       "<matplotlib.axes._subplots.AxesSubplot at 0x261fadf8b00>"
      ]
     },
     "execution_count": 46,
     "metadata": {},
     "output_type": "execute_result"
    },
    {
     "data": {
      "image/png": "[encoded data removed]",
      "text/plain": [
       "<Figure size 432x432 with 1 Axes>"
      ]
     },
     "metadata": {},
     "output_type": "display_data"
    }
   ],
   "source": [
    "df_review.Sent_type.value_counts().plot (kind='bar' , title=\"sentiment analysis\")"
   ]
  }
 ],
 "metadata": {
  "kernelspec": {
   "display_name": "Python 3",
   "language": "python",
   "name": "python3"
  },
  "language_info": {
   "codemirror_mode": {
    "name": "ipython",
    "version": 3
   },
   "file_extension": ".py",
   "mimetype": "text/x-python",
   "name": "python",
   "nbconvert_exporter": "python",
   "pygments_lexer": "ipython3",
   "version": "3.6.5"
  }
 },
 "nbformat": 4,
 "nbformat_minor": 2
}
